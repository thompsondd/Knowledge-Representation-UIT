{
 "cells": [
  {
   "cell_type": "code",
   "execution_count": 1,
   "id": "7af18af3",
   "metadata": {},
   "outputs": [],
   "source": [
    "import math\n",
    "import numpy as np\n",
    "import os"
   ]
  },
  {
   "cell_type": "code",
   "execution_count": 2,
   "id": "9188bb8b",
   "metadata": {},
   "outputs": [],
   "source": [
    "def  sin1(a,alpha,beta):\n",
    "    return math.sin(beta)*a/math.sin(alpha)\n",
    "\n",
    "def  sin2(a,b,alpha):\n",
    "    return math.sin(alpha)*b/a"
   ]
  },
  {
   "cell_type": "code",
   "execution_count": 3,
   "id": "b49b4996",
   "metadata": {},
   "outputs": [],
   "source": [
    "def tri_1(alpha,beta,gamma):\n",
    "    return math.pi\n",
    "\n",
    "def tri_2(alpha,beta):\n",
    "    return math.pi-alpha-beta"
   ]
  },
  {
   "cell_type": "code",
   "execution_count": 4,
   "id": "a0384efc",
   "metadata": {},
   "outputs": [],
   "source": [
    "def s_p_1(a,b,c):\n",
    "    p = sum([a,b,c])/3\n",
    "    return math.sqrt(p*(p-a)*(p-b)*(p-c))\n",
    "\n",
    "def s_p_2_1(c,hc):\n",
    "    return c*hc/2\n",
    "\n",
    "def s_p_2_2(s,x):\n",
    "    return 2*s/x "
   ]
  },
  {
   "cell_type": "code",
   "execution_count": null,
   "id": "5daac9fb",
   "metadata": {},
   "outputs": [],
   "source": [
    "class Function:\n",
    "    def __init__(self):\n",
    "        pass"
   ]
  },
  {
   "cell_type": "code",
   "execution_count": 7,
   "id": "8af43d26",
   "metadata": {},
   "outputs": [],
   "source": [
    "def init_network(num_func, num_para):\n",
    "    return np.zeros((num_para,num_func))"
   ]
  },
  {
   "cell_type": "code",
   "execution_count": 9,
   "id": "fa39b959",
   "metadata": {},
   "outputs": [
    {
     "data": {
      "text/plain": [
       "array([[0., 0., 0., 0., 0.],\n",
       "       [0., 0., 0., 0., 0.],\n",
       "       [0., 0., 0., 0., 0.],\n",
       "       [0., 0., 0., 0., 0.],\n",
       "       [0., 0., 0., 0., 0.],\n",
       "       [0., 0., 0., 0., 0.],\n",
       "       [0., 0., 0., 0., 0.],\n",
       "       [0., 0., 0., 0., 0.],\n",
       "       [0., 0., 0., 0., 0.]])"
      ]
     },
     "execution_count": 9,
     "metadata": {},
     "output_type": "execute_result"
    }
   ],
   "source": [
    "init_network(5,9)"
   ]
  },
  {
   "cell_type": "code",
   "execution_count": null,
   "id": "e41869d4",
   "metadata": {},
   "outputs": [],
   "source": []
  }
 ],
 "metadata": {
  "kernelspec": {
   "display_name": "Python 3 (ipykernel)",
   "language": "python",
   "name": "python3"
  },
  "language_info": {
   "codemirror_mode": {
    "name": "ipython",
    "version": 3
   },
   "file_extension": ".py",
   "mimetype": "text/x-python",
   "name": "python",
   "nbconvert_exporter": "python",
   "pygments_lexer": "ipython3",
   "version": "3.9.12"
  }
 },
 "nbformat": 4,
 "nbformat_minor": 5
}
