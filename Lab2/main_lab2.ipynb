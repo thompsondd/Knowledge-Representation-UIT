{
 "cells": [
  {
   "cell_type": "code",
   "execution_count": 1,
   "id": "7f059c46",
   "metadata": {},
   "outputs": [],
   "source": [
    "import math\n",
    "import numpy as np\n",
    "import os"
   ]
  },
  {
   "cell_type": "code",
   "execution_count": 2,
   "id": "c80d6ead",
   "metadata": {},
   "outputs": [],
   "source": [
    "def  sin1(a,alpha,beta):\n",
    "    return math.sin(beta)*a/math.sin(alpha)\n",
    "\n",
    "def  sin2(a,b,alpha):\n",
    "    return math.sin(alpha)*b/a"
   ]
  },
  {
   "cell_type": "code",
   "execution_count": 3,
   "id": "4ae26f15",
   "metadata": {},
   "outputs": [],
   "source": [
    "def tri_1(alpha,beta,gamma):\n",
    "    return math.pi\n",
    "\n",
    "def tri_2(alpha,beta):\n",
    "    return math.pi-alpha-beta"
   ]
  },
  {
   "cell_type": "code",
   "execution_count": 4,
   "id": "54c902cd",
   "metadata": {},
   "outputs": [],
   "source": [
    "def s_p_1(a,b,c):\n",
    "    p = sum([a,b,c])/3\n",
    "    return math.sqrt(p*(p-a)*(p-b)*(p-c))\n",
    "\n",
    "def s_p_2_1(c,hc):\n",
    "    return c*hc/2\n",
    "\n",
    "def s_p_2_2(s,x):\n",
    "    return 2*s/x "
   ]
  },
  {
   "cell_type": "code",
   "execution_count": 14,
   "id": "913642b8",
   "metadata": {},
   "outputs": [
    {
     "ename": "NameError",
     "evalue": "name 'function' is not defined",
     "output_type": "error",
     "traceback": [
      "\u001b[1;31m---------------------------------------------------------------------------\u001b[0m",
      "\u001b[1;31mNameError\u001b[0m                                 Traceback (most recent call last)",
      "Input \u001b[1;32mIn [14]\u001b[0m, in \u001b[0;36m<cell line: 1>\u001b[1;34m()\u001b[0m\n\u001b[1;32m----> 1\u001b[0m \u001b[38;5;28;01mclass\u001b[39;00m \u001b[38;5;21;01mAbsFunction\u001b[39;00m:\n\u001b[0;32m      2\u001b[0m     \u001b[38;5;28;01mdef\u001b[39;00m \u001b[38;5;21m__init__\u001b[39m(\u001b[38;5;28mself\u001b[39m,name_function: \u001b[38;5;28mstr\u001b[39m ,api_get_index:function ,\u001b[38;5;241m*\u001b[39mname_parameters):\n\u001b[0;32m      3\u001b[0m         \u001b[38;5;28mself\u001b[39m\u001b[38;5;241m.\u001b[39mfname\u001b[38;5;241m=\u001b[39mname_function\n",
      "Input \u001b[1;32mIn [14]\u001b[0m, in \u001b[0;36mAbsFunction\u001b[1;34m()\u001b[0m\n\u001b[0;32m      1\u001b[0m \u001b[38;5;28;01mclass\u001b[39;00m \u001b[38;5;21;01mAbsFunction\u001b[39;00m:\n\u001b[1;32m----> 2\u001b[0m     \u001b[38;5;28;01mdef\u001b[39;00m \u001b[38;5;21m__init__\u001b[39m(\u001b[38;5;28mself\u001b[39m,name_function: \u001b[38;5;28mstr\u001b[39m ,api_get_index:\u001b[43mfunction\u001b[49m ,\u001b[38;5;241m*\u001b[39mname_parameters):\n\u001b[0;32m      3\u001b[0m         \u001b[38;5;28mself\u001b[39m\u001b[38;5;241m.\u001b[39mfname\u001b[38;5;241m=\u001b[39mname_function\n\u001b[0;32m      4\u001b[0m         \u001b[38;5;28mself\u001b[39m\u001b[38;5;241m.\u001b[39mpsname \u001b[38;5;241m=\u001b[39m name_parameters\n",
      "\u001b[1;31mNameError\u001b[0m: name 'function' is not defined"
     ]
    }
   ],
   "source": [
    "class AbsFunction:\n",
    "    def __init__(self,name_function: str ,api_get_index:function ,*name_parameters):\n",
    "        self.fname=name_function\n",
    "        self.psname = name_parameters\n",
    "        self.gir = api_get_index\n",
    "    def get_index_row(self,name_parameter):\n",
    "        return self.gir(name_parameter)"
   ]
  },
  {
   "cell_type": "code",
   "execution_count": 9,
   "id": "488ba7f7",
   "metadata": {},
   "outputs": [],
   "source": [
    "class Function(AbsFunction):\n",
    "    def __init__(self,name_function,api_get_index,*name_parameters):\n",
    "        super().__init__(name_function,api_get_index,name_parameters)\n",
    "    def fill_info(self,data:dict):"
   ]
  },
  {
   "cell_type": "code",
   "execution_count": 10,
   "id": "c1d6ccd7",
   "metadata": {},
   "outputs": [
    {
     "ename": "TypeError",
     "evalue": "__init__() missing 2 required positional arguments: 'name_function' and 'api_get_index'",
     "output_type": "error",
     "traceback": [
      "\u001b[1;31m---------------------------------------------------------------------------\u001b[0m",
      "\u001b[1;31mTypeError\u001b[0m                                 Traceback (most recent call last)",
      "Input \u001b[1;32mIn [10]\u001b[0m, in \u001b[0;36m<cell line: 1>\u001b[1;34m()\u001b[0m\n\u001b[1;32m----> 1\u001b[0m \u001b[43mFunction\u001b[49m\u001b[43m(\u001b[49m\u001b[43m)\u001b[49m\n",
      "\u001b[1;31mTypeError\u001b[0m: __init__() missing 2 required positional arguments: 'name_function' and 'api_get_index'"
     ]
    }
   ],
   "source": [
    "Function()"
   ]
  },
  {
   "cell_type": "code",
   "execution_count": 7,
   "id": "9d379398",
   "metadata": {},
   "outputs": [],
   "source": [
    "def init_network(num_func, num_para):\n",
    "    return np.zeros((num_para,num_func))"
   ]
  },
  {
   "cell_type": "code",
   "execution_count": 9,
   "id": "8c1749a1",
   "metadata": {},
   "outputs": [
    {
     "data": {
      "text/plain": [
       "array([[0., 0., 0., 0., 0.],\n",
       "       [0., 0., 0., 0., 0.],\n",
       "       [0., 0., 0., 0., 0.],\n",
       "       [0., 0., 0., 0., 0.],\n",
       "       [0., 0., 0., 0., 0.],\n",
       "       [0., 0., 0., 0., 0.],\n",
       "       [0., 0., 0., 0., 0.],\n",
       "       [0., 0., 0., 0., 0.],\n",
       "       [0., 0., 0., 0., 0.]])"
      ]
     },
     "execution_count": 9,
     "metadata": {},
     "output_type": "execute_result"
    }
   ],
   "source": [
    "init_network(5,9)"
   ]
  },
  {
   "cell_type": "code",
   "execution_count": null,
   "id": "0e333c97",
   "metadata": {},
   "outputs": [],
   "source": []
  }
 ],
 "metadata": {
  "kernelspec": {
   "display_name": "Python 3 (ipykernel)",
   "language": "python",
   "name": "python3"
  },
  "language_info": {
   "codemirror_mode": {
    "name": "ipython",
    "version": 3
   },
   "file_extension": ".py",
   "mimetype": "text/x-python",
   "name": "python",
   "nbconvert_exporter": "python",
   "pygments_lexer": "ipython3",
   "version": "3.9.12"
  }
 },
 "nbformat": 4,
 "nbformat_minor": 5
}
